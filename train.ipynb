{
 "cells": [
  {
   "cell_type": "code",
   "execution_count": 28,
   "metadata": {},
   "outputs": [
    {
     "name": "stdout",
     "output_type": "stream",
     "text": [
      "env: MNTDIR=/home/experiment\n",
      "env: PROJECT_NAME=SEAFARI\n",
      "env: RUN_NAME=replication\n",
      "env: EPOCHS=100\n",
      "env: ANCHORS=10,13,  16,30,  33,23,  30,61,  62,45,  59,119,  116,90,  156,198,  373,326\n",
      "env: ANCHORS_NUM=9\n",
      "env: CLASSES=80\n",
      "env: dataset=/home/coco\n"
     ]
    }
   ],
   "source": [
    "#Set all information relating to the training run here\n",
    "\n",
    "%env MNTDIR = /home/experiment\n",
    "%env PROJECT_NAME = SEAFARI\n",
    "%env RUN_NAME = replication\n",
    "%env EPOCHS=100\n",
    "%env ANCHORS=10,13,  16,30,  33,23,  30,61,  62,45,  59,119,  116,90,  156,198,  373,326\n",
    "%env ANCHORS_NUM=9\n",
    "%env CLASSES=80\n",
    "\n",
    "%env dataset = /home/coco\n"
   ]
  },
  {
   "cell_type": "code",
   "execution_count": 29,
   "metadata": {
    "colab": {
     "base_uri": "https://localhost:8080/",
     "height": 34
    },
    "colab_type": "code",
    "id": "e5ylFIvlCEym",
    "outputId": "fbc88edd-7b26-4735-83bf-b404b76f9c90"
   },
   "outputs": [
    {
     "name": "stdout",
     "output_type": "stream",
     "text": [
      "PyTorch 1.4.0 _CudaDeviceProperties(name='Quadro P1000', major=6, minor=1, total_memory=4031MB, multi_processor_count=4)\n"
     ]
    }
   ],
   "source": [
    "import time\n",
    "import glob\n",
    "import torch\n",
    "import os\n",
    "\n",
    "from IPython.display import Image, clear_output \n",
    "print('PyTorch %s %s' % (torch.__version__, torch.cuda.get_device_properties(0) if torch.cuda.is_available() else 'CPU'))"
   ]
  },
  {
   "cell_type": "markdown",
   "metadata": {},
   "source": [
    "Load Tensorboard Magic Extension before training"
   ]
  },
  {
   "cell_type": "code",
   "execution_count": 26,
   "metadata": {},
   "outputs": [
    {
     "name": "stdout",
     "output_type": "stream",
     "text": [
      "Requirement already satisfied: tensorboard in /opt/conda/lib/python3.7/site-packages (2.2.0)\n",
      "Requirement already satisfied: markdown>=2.6.8 in /opt/conda/lib/python3.7/site-packages (from tensorboard) (3.2.1)\n",
      "Requirement already satisfied: absl-py>=0.4 in /opt/conda/lib/python3.7/site-packages (from tensorboard) (0.9.0)\n",
      "Requirement already satisfied: six>=1.10.0 in /opt/conda/lib/python3.7/site-packages (from tensorboard) (1.12.0)\n",
      "Requirement already satisfied: wheel>=0.26; python_version >= \"3\" in /opt/conda/lib/python3.7/site-packages (from tensorboard) (0.33.6)\n",
      "Requirement already satisfied: grpcio>=1.24.3 in /opt/conda/lib/python3.7/site-packages (from tensorboard) (1.28.1)\n",
      "Requirement already satisfied: google-auth<2,>=1.6.3 in /opt/conda/lib/python3.7/site-packages (from tensorboard) (1.13.1)\n",
      "Requirement already satisfied: google-auth-oauthlib<0.5,>=0.4.1 in /opt/conda/lib/python3.7/site-packages (from tensorboard) (0.4.1)\n",
      "Requirement already satisfied: requests<3,>=2.21.0 in /opt/conda/lib/python3.7/site-packages (from tensorboard) (2.22.0)\n",
      "Requirement already satisfied: numpy>=1.12.0 in /opt/conda/lib/python3.7/site-packages (from tensorboard) (1.17.4)\n",
      "Requirement already satisfied: tensorboard-plugin-wit>=1.6.0 in /opt/conda/lib/python3.7/site-packages (from tensorboard) (1.6.0.post3)\n",
      "Requirement already satisfied: werkzeug>=0.11.15 in /opt/conda/lib/python3.7/site-packages (from tensorboard) (1.0.1)\n",
      "Requirement already satisfied: setuptools>=41.0.0 in /opt/conda/lib/python3.7/site-packages (from tensorboard) (41.4.0)\n",
      "Requirement already satisfied: protobuf>=3.6.0 in /opt/conda/lib/python3.7/site-packages (from tensorboard) (3.11.3)\n",
      "Requirement already satisfied: cachetools<5.0,>=2.0.0 in /opt/conda/lib/python3.7/site-packages (from google-auth<2,>=1.6.3->tensorboard) (4.1.0)\n",
      "Requirement already satisfied: rsa<4.1,>=3.1.4 in /opt/conda/lib/python3.7/site-packages (from google-auth<2,>=1.6.3->tensorboard) (3.4.2)\n",
      "Requirement already satisfied: pyasn1-modules>=0.2.1 in /opt/conda/lib/python3.7/site-packages (from google-auth<2,>=1.6.3->tensorboard) (0.2.8)\n",
      "Requirement already satisfied: requests-oauthlib>=0.7.0 in /opt/conda/lib/python3.7/site-packages (from google-auth-oauthlib<0.5,>=0.4.1->tensorboard) (1.3.0)\n",
      "Requirement already satisfied: chardet<3.1.0,>=3.0.2 in /opt/conda/lib/python3.7/site-packages (from requests<3,>=2.21.0->tensorboard) (3.0.4)\n",
      "Requirement already satisfied: idna<2.9,>=2.5 in /opt/conda/lib/python3.7/site-packages (from requests<3,>=2.21.0->tensorboard) (2.8)\n",
      "Requirement already satisfied: urllib3!=1.25.0,!=1.25.1,<1.26,>=1.21.1 in /opt/conda/lib/python3.7/site-packages (from requests<3,>=2.21.0->tensorboard) (1.24.2)\n",
      "Requirement already satisfied: certifi>=2017.4.17 in /opt/conda/lib/python3.7/site-packages (from requests<3,>=2.21.0->tensorboard) (2019.11.28)\n",
      "Requirement already satisfied: pyasn1>=0.1.3 in /opt/conda/lib/python3.7/site-packages (from rsa<4.1,>=3.1.4->google-auth<2,>=1.6.3->tensorboard) (0.4.8)\n",
      "Requirement already satisfied: oauthlib>=3.0.0 in /opt/conda/lib/python3.7/site-packages (from requests-oauthlib>=0.7.0->google-auth-oauthlib<0.5,>=0.4.1->tensorboard) (3.1.0)\n",
      "The tensorboard extension is already loaded. To reload it, use:\n",
      "  %reload_ext tensorboard\n"
     ]
    }
   ],
   "source": [
    "!pip install tensorboard\n",
    "%load_ext tensorboard"
   ]
  },
  {
   "cell_type": "markdown",
   "metadata": {},
   "source": [
    "Load Tensorboard before training run:"
   ]
  },
  {
   "cell_type": "code",
   "execution_count": 49,
   "metadata": {},
   "outputs": [
    {
     "data": {
      "text/plain": [
       "Reusing TensorBoard on port 6006 (pid 12910), started 0:00:48 ago. (Use '!kill 12910' to kill it.)"
      ]
     },
     "metadata": {},
     "output_type": "display_data"
    },
    {
     "data": {
      "text/html": [
       "\n",
       "      <iframe id=\"tensorboard-frame-266cdab45f0c639c\" width=\"100%\" height=\"800\" frameborder=\"0\">\n",
       "      </iframe>\n",
       "      <script>\n",
       "        (function() {\n",
       "          const frame = document.getElementById(\"tensorboard-frame-266cdab45f0c639c\");\n",
       "          const url = new URL(\"/\", window.location);\n",
       "          url.port = 6006;\n",
       "          frame.src = url;\n",
       "        })();\n",
       "      </script>\n",
       "  "
      ],
      "text/plain": [
       "<IPython.core.display.HTML object>"
      ]
     },
     "metadata": {},
     "output_type": "display_data"
    }
   ],
   "source": [
    "%tensorboard --logdir=runs --host 0.0.0.0 --port 6006"
   ]
  },
  {
   "cell_type": "markdown",
   "metadata": {
    "colab_type": "text",
    "id": "ijTFlKcp6JVy"
   },
   "source": [
    "Run `train.py` to train YOLOv3-SPP starting from a darknet53 backbone:"
   ]
  },
  {
   "cell_type": "code",
   "execution_count": 47,
   "metadata": {
    "colab": {},
    "colab_type": "code",
    "id": "Mupsoa0lzSPo",
    "scrolled": true
   },
   "outputs": [
    {
     "name": "stdout",
     "output_type": "stream",
     "text": [
      "Caching labels (63 found, 1 missing, 0 empty, 0 duplicate, for 64 images): 100%|█| 64/64 [00:00<00:00, 5781.88it/s]\n",
      "Caching labels (63 found, 1 missing, 0 empty, 0 duplicate, for 64 images): 100%|█| 64/64 [00:00<00:00, 6245.88it/s]\n",
      "      0/99     1.65G      7.73      21.8      7.65      37.2       171       128: 100%|█| 4/4 [00:04<00:00,  1.22s/it]\n",
      "               Class    Images   Targets         P         R   mAP@0.5        F1: 100%|█| 4/4 [00:02<00:00,  1.77it/s]\n",
      "      1/99     1.65G      7.22      22.9       7.7      37.8       154       128: 100%|█| 4/4 [00:02<00:00,  1.76it/s]\n",
      "               Class    Images   Targets         P         R   mAP@0.5        F1: 100%|█| 4/4 [00:00<00:00,  4.41it/s]\n",
      "      2/99     1.65G      7.32      22.7      7.58      37.5       140       128: 100%|█| 4/4 [00:02<00:00,  1.66it/s]\n",
      "               Class    Images   Targets         P         R   mAP@0.5        F1: 100%|█| 4/4 [00:00<00:00,  4.31it/s]\n",
      "      3/99     1.65G      7.38      20.5      7.61      35.5       116       128: 100%|█| 4/4 [00:02<00:00,  1.73it/s]\n",
      "               Class    Images   Targets         P         R   mAP@0.5        F1: 100%|█| 4/4 [00:00<00:00,  4.53it/s]\n",
      "      4/99     1.65G       7.3      19.4      7.57      34.2       140       128: 100%|█| 4/4 [00:02<00:00,  1.74it/s]\n",
      "               Class    Images   Targets         P         R   mAP@0.5        F1: 100%|█| 4/4 [00:00<00:00,  4.42it/s]\n",
      "      5/99     1.65G      7.26      20.9      7.52      35.7       209       128: 100%|█| 4/4 [00:02<00:00,  1.70it/s]\n",
      "               Class    Images   Targets         P         R   mAP@0.5        F1: 100%|█| 4/4 [00:00<00:00,  4.68it/s]\n",
      "      6/99     1.65G      7.25      19.7       7.5      34.4       131       128: 100%|█| 4/4 [00:02<00:00,  1.74it/s]\n",
      "               Class    Images   Targets         P         R   mAP@0.5        F1: 100%|█| 4/4 [00:00<00:00,  4.76it/s]\n",
      "      7/99     1.65G      7.02      19.7      7.52      34.2       168       128: 100%|█| 4/4 [00:02<00:00,  1.73it/s]\n",
      "               Class    Images   Targets         P         R   mAP@0.5        F1: 100%|█| 4/4 [00:00<00:00,  4.48it/s]\n",
      "      8/99     1.65G      6.88      19.7      7.33      33.9       146       128: 100%|█| 4/4 [00:02<00:00,  1.60it/s]\n",
      "               Class    Images   Targets         P         R   mAP@0.5        F1: 100%|█| 4/4 [00:00<00:00,  4.58it/s]\n",
      "      9/99     1.65G      6.82      19.9      7.45      34.2       128       128: 100%|█| 4/4 [00:02<00:00,  1.75it/s]\n",
      "               Class    Images   Targets         P         R   mAP@0.5        F1: 100%|█| 4/4 [00:00<00:00,  4.44it/s]\n",
      "     10/99     1.65G         7      17.5      7.32      31.8       160       128: 100%|█| 4/4 [00:02<00:00,  1.71it/s]\n",
      "               Class    Images   Targets         P         R   mAP@0.5        F1: 100%|█| 4/4 [00:00<00:00,  4.47it/s]\n",
      "     11/99     1.65G      6.84        20      7.22      34.1       163       128: 100%|█| 4/4 [00:02<00:00,  1.71it/s]\n",
      "               Class    Images   Targets         P         R   mAP@0.5        F1: 100%|█| 4/4 [00:00<00:00,  4.59it/s]\n",
      "     12/99     1.65G      6.79      18.5      7.06      32.4       112       128: 100%|█| 4/4 [00:02<00:00,  1.72it/s]\n",
      "               Class    Images   Targets         P         R   mAP@0.5        F1: 100%|█| 4/4 [00:00<00:00,  4.61it/s]\n",
      "     13/99     1.65G      6.87      17.4      7.06      31.4       107       128: 100%|█| 4/4 [00:02<00:00,  1.74it/s]\n",
      "               Class    Images   Targets         P         R   mAP@0.5        F1: 100%|█| 4/4 [00:00<00:00,  4.73it/s]\n",
      "     14/99     1.65G      6.61      16.1       6.9      29.7       148       128: 100%|█| 4/4 [00:02<00:00,  1.74it/s]\n",
      "               Class    Images   Targets         P         R   mAP@0.5        F1: 100%|█| 4/4 [00:00<00:00,  4.43it/s]\n",
      "     15/99     1.65G      6.61      15.5      6.78      28.9       114       128: 100%|█| 4/4 [00:02<00:00,  1.75it/s]\n",
      "               Class    Images   Targets         P         R   mAP@0.5        F1: 100%|█| 4/4 [00:00<00:00,  4.16it/s]\n",
      "     16/99     1.65G      6.83      15.2      6.77      28.8       110       128: 100%|█| 4/4 [00:02<00:00,  1.76it/s]\n",
      "               Class    Images   Targets         P         R   mAP@0.5        F1: 100%|█| 4/4 [00:00<00:00,  4.10it/s]\n",
      "     17/99     1.65G       7.2      16.7      6.51      30.4       139       128: 100%|█| 4/4 [00:02<00:00,  1.76it/s]\n",
      "               Class    Images   Targets         P         R   mAP@0.5        F1: 100%|█| 4/4 [00:00<00:00,  4.04it/s]\n",
      "     18/99     1.65G      6.94      16.1      6.68      29.7       109       128: 100%|█| 4/4 [00:02<00:00,  1.73it/s]\n",
      "               Class    Images   Targets         P         R   mAP@0.5        F1: 100%|█| 4/4 [00:01<00:00,  3.99it/s]\n",
      "     19/99     1.65G      7.18      14.6      6.75      28.6       147       128: 100%|█| 4/4 [00:02<00:00,  1.75it/s]\n",
      "               Class    Images   Targets         P         R   mAP@0.5        F1: 100%|█| 4/4 [00:01<00:00,  3.96it/s]\n",
      "     20/99     1.65G      6.78      15.5       6.5      28.8       155       128: 100%|█| 4/4 [00:02<00:00,  1.75it/s]\n",
      "               Class    Images   Targets         P         R   mAP@0.5        F1: 100%|█| 4/4 [00:01<00:00,  3.77it/s]\n",
      "     21/99     1.65G      6.94      14.7      6.13      27.8       194       128: 100%|█| 4/4 [00:02<00:00,  1.74it/s]\n",
      "               Class    Images   Targets         P         R   mAP@0.5        F1: 100%|█| 4/4 [00:01<00:00,  3.89it/s]\n",
      "     22/99     1.65G       6.7      15.7      6.49      28.9       195       128: 100%|█| 4/4 [00:02<00:00,  1.73it/s]\n",
      "               Class    Images   Targets         P         R   mAP@0.5        F1: 100%|█| 4/4 [00:01<00:00,  3.75it/s]\n",
      "     23/99     1.65G      6.88      13.9       6.3      27.1       160       128: 100%|█| 4/4 [00:02<00:00,  1.70it/s]\n",
      "               Class    Images   Targets         P         R   mAP@0.5        F1: 100%|█| 4/4 [00:01<00:00,  3.54it/s]\n",
      "     24/99     1.65G      6.84      13.8      6.37        27       152       128: 100%|█| 4/4 [00:02<00:00,  1.77it/s]\n",
      "               Class    Images   Targets         P         R   mAP@0.5        F1: 100%|█| 4/4 [00:01<00:00,  3.66it/s]\n",
      "     25/99     1.65G      6.84      14.3      5.88        27       150       128: 100%|█| 4/4 [00:02<00:00,  1.74it/s]\n",
      "               Class    Images   Targets         P         R   mAP@0.5        F1: 100%|█| 4/4 [00:01<00:00,  3.46it/s]\n",
      "     26/99     1.65G      6.79      15.1      5.87      27.8       177       128: 100%|█| 4/4 [00:02<00:00,  1.73it/s]\n",
      "               Class    Images   Targets         P         R   mAP@0.5        F1: 100%|█| 4/4 [00:01<00:00,  2.81it/s]\n",
      "     27/99     2.17G      6.63      12.8      6.02      25.4       110       128: 100%|█| 4/4 [00:02<00:00,  1.73it/s]\n",
      "               Class    Images   Targets         P         R   mAP@0.5        F1: 100%|█| 4/4 [00:01<00:00,  2.26it/s]\n",
      "     28/99     2.82G      7.16      12.6      5.86      25.6       162       128: 100%|█| 4/4 [00:02<00:00,  1.47it/s]\n",
      "               Class    Images   Targets         P         R   mAP@0.5        F1: 100%|█| 4/4 [00:01<00:00,  2.82it/s]\n",
      "     29/99     2.82G      6.92      11.9      5.62      24.4       125       128: 100%|█| 4/4 [00:02<00:00,  1.75it/s]\n",
      "               Class    Images   Targets         P         R   mAP@0.5        F1: 100%|█| 4/4 [00:01<00:00,  2.80it/s]\n",
      "     30/99     2.82G      6.72      13.6       5.8      26.1       133       128: 100%|█| 4/4 [00:02<00:00,  1.75it/s]\n",
      "               Class    Images   Targets         P         R   mAP@0.5        F1: 100%|█| 4/4 [00:01<00:00,  2.24it/s]\n",
      "     31/99     2.32G      6.35      11.4      5.77      23.6       164       128: 100%|█| 4/4 [00:02<00:00,  1.74it/s]\n",
      "               Class    Images   Targets         P         R   mAP@0.5        F1: 100%|█| 4/4 [00:01<00:00,  2.07it/s]\n",
      "     32/99      2.2G      6.23      12.6      5.45      24.3       163       128: 100%|█| 4/4 [00:02<00:00,  1.76it/s]\n",
      "               Class    Images   Targets         P         R   mAP@0.5        F1: 100%|█| 4/4 [00:02<00:00,  1.98it/s]\n"
     ]
    },
    {
     "name": "stdout",
     "output_type": "stream",
     "text": [
      "     33/99     3.28G      5.84      11.7       5.6      23.2       168       128: 100%|█| 4/4 [00:02<00:00,  1.73it/s]\n",
      "               Class    Images   Targets         P         R   mAP@0.5        F1: 100%|█| 4/4 [00:02<00:00,  1.92it/s]\n",
      "     34/99     2.82G      6.66      11.8      5.61      24.1       124       128: 100%|█| 4/4 [00:02<00:00,  1.77it/s]\n",
      "               Class    Images   Targets         P         R   mAP@0.5        F1: 100%|█| 4/4 [00:02<00:00,  1.59it/s]\n",
      "     35/99     3.19G      6.61      11.7      5.37      23.7       185       128: 100%|█| 4/4 [00:02<00:00,  1.73it/s]\n",
      "               Class    Images   Targets         P         R   mAP@0.5        F1: 100%|█| 4/4 [00:02<00:00,  1.88it/s]\n",
      "     36/99     3.19G      6.45      11.6      5.39      23.4       147       128: 100%|█| 4/4 [00:02<00:00,  1.77it/s]\n",
      "               Class    Images   Targets         P         R   mAP@0.5        F1: 100%|█| 4/4 [00:01<00:00,  2.09it/s]\n",
      "     37/99      3.2G      6.33      10.9      5.36      22.6       143       128: 100%|█| 4/4 [00:02<00:00,  1.76it/s]\n",
      "               Class    Images   Targets         P         R   mAP@0.5        F1: 100%|█| 4/4 [00:01<00:00,  2.22it/s]\n",
      "     38/99      3.2G      6.59      11.3       5.4      23.3       160       128: 100%|█| 4/4 [00:02<00:00,  1.76it/s]\n",
      "               Class    Images   Targets         P         R   mAP@0.5        F1: 100%|█| 4/4 [00:02<00:00,  1.97it/s]\n",
      "     39/99      3.2G      6.45        10      5.34      21.8       146       128: 100%|█| 4/4 [00:02<00:00,  1.78it/s]\n",
      "               Class    Images   Targets         P         R   mAP@0.5        F1: 100%|█| 4/4 [00:02<00:00,  1.89it/s]\n",
      "     40/99      3.2G      6.95      10.6      5.35      22.9       161       128: 100%|█| 4/4 [00:02<00:00,  1.75it/s]\n",
      "               Class    Images   Targets         P         R   mAP@0.5        F1: 100%|█| 4/4 [00:02<00:00,  1.70it/s]\n",
      "     41/99      3.2G       6.3      11.1      5.21      22.6       130       128: 100%|█| 4/4 [00:02<00:00,  1.77it/s]\n",
      "               Class    Images   Targets         P         R   mAP@0.5        F1: 100%|█| 4/4 [00:02<00:00,  1.74it/s]\n",
      "     42/99      3.2G      6.64      10.6      5.23      22.5       139       128: 100%|█| 4/4 [00:02<00:00,  1.78it/s]\n",
      "               Class    Images   Targets         P         R   mAP@0.5        F1: 100%|█| 4/4 [00:02<00:00,  1.69it/s]\n",
      "     43/99      3.2G      6.52      10.8      5.42      22.7       137       128: 100%|█| 4/4 [00:02<00:00,  1.76it/s]\n",
      "               Class    Images   Targets         P         R   mAP@0.5        F1: 100%|█| 4/4 [00:02<00:00,  1.75it/s]\n",
      "     44/99      3.2G      6.03      9.98      5.16      21.2       131       128: 100%|█| 4/4 [00:02<00:00,  1.76it/s]\n",
      "               Class    Images   Targets         P         R   mAP@0.5        F1: 100%|█| 4/4 [00:02<00:00,  1.60it/s]\n",
      "     45/99      3.2G      6.02      9.88      5.33      21.2       145       128: 100%|█| 4/4 [00:02<00:00,  1.77it/s]\n",
      "               Class    Images   Targets         P         R   mAP@0.5        F1: 100%|█| 4/4 [00:02<00:00,  1.56it/s]\n",
      "     46/99      3.2G      6.11        10      5.07      21.2       129       128: 100%|█| 4/4 [00:02<00:00,  1.77it/s]\n",
      "               Class    Images   Targets         P         R   mAP@0.5        F1: 100%|█| 4/4 [00:02<00:00,  1.46it/s]\n",
      "     47/99      3.2G      5.95      10.7      4.95      21.6       168       128: 100%|█| 4/4 [00:02<00:00,  1.76it/s]\n",
      "               Class    Images   Targets         P         R   mAP@0.5        F1: 100%|█| 4/4 [00:02<00:00,  1.51it/s]\n",
      "     48/99      3.2G       5.7      11.1      4.93      21.7       156       128: 100%|█| 4/4 [00:02<00:00,  1.75it/s]\n",
      "               Class    Images   Targets         P         R   mAP@0.5        F1: 100%|█| 4/4 [00:02<00:00,  1.48it/s]\n",
      "     49/99      3.2G      6.55        10       4.7      21.3       150       128: 100%|█| 4/4 [00:02<00:00,  1.78it/s]\n",
      "               Class    Images   Targets         P         R   mAP@0.5        F1: 100%|█| 4/4 [00:02<00:00,  1.41it/s]\n",
      "     50/99      3.2G      6.06      10.3      5.27      21.6       171       128: 100%|█| 4/4 [00:02<00:00,  1.78it/s]\n",
      "               Class    Images   Targets         P         R   mAP@0.5        F1: 100%|█| 4/4 [00:03<00:00,  1.30it/s]\n",
      "     51/99      3.2G      5.87      8.61      5.31      19.8        92       128: 100%|█| 4/4 [00:02<00:00,  1.76it/s]\n",
      "               Class    Images   Targets         P         R   mAP@0.5        F1: 100%|█| 4/4 [00:02<00:00,  1.56it/s]\n",
      "     52/99      3.2G      5.93      9.51      4.96      20.4       158       128: 100%|█| 4/4 [00:02<00:00,  1.75it/s]\n",
      "               Class    Images   Targets         P         R   mAP@0.5        F1: 100%|█| 4/4 [00:02<00:00,  1.71it/s]\n",
      "     53/99      3.2G      5.41      10.3      5.21      20.9       142       128: 100%|█| 4/4 [00:02<00:00,  1.77it/s]\n",
      "               Class    Images   Targets         P         R   mAP@0.5        F1: 100%|█| 4/4 [00:02<00:00,  1.85it/s]\n",
      "     54/99      3.2G      5.77       9.6      5.02      20.4       113       128: 100%|█| 4/4 [00:02<00:00,  1.76it/s]\n",
      "               Class    Images   Targets         P         R   mAP@0.5        F1: 100%|█| 4/4 [00:02<00:00,  1.58it/s]\n",
      "     55/99      3.2G       5.6      10.6      4.88      21.1       182       128: 100%|█| 4/4 [00:02<00:00,  1.80it/s]\n",
      "               Class    Images   Targets         P         R   mAP@0.5        F1: 100%|█| 4/4 [00:02<00:00,  1.51it/s]\n",
      "     56/99      3.2G      5.53      9.94      4.79      20.3       121       128: 100%|█| 4/4 [00:02<00:00,  1.75it/s]\n",
      "               Class    Images   Targets         P         R   mAP@0.5        F1: 100%|█| 4/4 [00:02<00:00,  1.35it/s]\n",
      "     57/99      3.2G      5.38      9.79      4.64      19.8       120       128: 100%|█| 4/4 [00:02<00:00,  1.78it/s]\n",
      "               Class    Images   Targets         P         R   mAP@0.5        F1: 100%|█| 4/4 [00:02<00:00,  1.35it/s]\n",
      "     58/99      3.2G      5.23      8.77      4.91      18.9       141       128: 100%|█| 4/4 [00:02<00:00,  1.76it/s]\n",
      "               Class    Images   Targets         P         R   mAP@0.5        F1: 100%|█| 4/4 [00:02<00:00,  1.50it/s]\n",
      "     59/99      3.2G      5.35      8.92      4.89      19.2       127       128: 100%|█| 4/4 [00:02<00:00,  1.78it/s]\n",
      "               Class    Images   Targets         P         R   mAP@0.5        F1: 100%|█| 4/4 [00:02<00:00,  1.53it/s]\n",
      "     60/99      3.2G      5.34      9.67       4.7      19.7       138       128: 100%|█| 4/4 [00:02<00:00,  1.60it/s]\n",
      "               Class    Images   Targets         P         R   mAP@0.5        F1: 100%|█| 4/4 [00:03<00:00,  1.24it/s]\n",
      "     61/99      3.2G      5.13      9.05      4.57      18.7       161       128: 100%|█| 4/4 [00:02<00:00,  1.73it/s]\n",
      "               Class    Images   Targets         P         R   mAP@0.5        F1: 100%|█| 4/4 [00:03<00:00,  1.28it/s]\n",
      "     62/99      3.2G      4.86      8.42      4.81      18.1       120       128: 100%|█| 4/4 [00:02<00:00,  1.72it/s]\n",
      "               Class    Images   Targets         P         R   mAP@0.5        F1: 100%|█| 4/4 [00:03<00:00,  1.26it/s]\n",
      "     63/99      3.2G       4.6      9.41      4.73      18.7       175       128: 100%|█| 4/4 [00:02<00:00,  1.75it/s]\n",
      "               Class    Images   Targets         P         R   mAP@0.5        F1: 100%|█| 4/4 [00:03<00:00,  1.24it/s]\n",
      "     64/99      3.2G      4.67      9.37      5.03      19.1       146       128: 100%|█| 4/4 [00:02<00:00,  1.76it/s]\n",
      "               Class    Images   Targets         P         R   mAP@0.5        F1: 100%|█| 4/4 [00:03<00:00,  1.32it/s]\n",
      "     65/99      3.2G       4.9      8.88      4.71      18.5       114       128: 100%|█| 4/4 [00:02<00:00,  1.74it/s]\n",
      "               Class    Images   Targets         P         R   mAP@0.5        F1: 100%|█| 4/4 [00:02<00:00,  1.41it/s]\n",
      "     66/99      3.2G      4.86      8.84      4.38      18.1       182       128: 100%|█| 4/4 [00:02<00:00,  1.78it/s]\n",
      "               Class    Images   Targets         P         R   mAP@0.5        F1: 100%|█| 4/4 [00:02<00:00,  1.64it/s]\n"
     ]
    },
    {
     "name": "stdout",
     "output_type": "stream",
     "text": [
      "     67/99      3.2G      4.82      7.99       5.1      17.9       158       128: 100%|█| 4/4 [00:02<00:00,  1.75it/s]\n",
      "               Class    Images   Targets         P         R   mAP@0.5        F1: 100%|█| 4/4 [00:02<00:00,  1.79it/s]\n",
      "     68/99      3.2G       4.7      8.22      4.77      17.7       184       128: 100%|█| 4/4 [00:02<00:00,  1.77it/s]\n",
      "               Class    Images   Targets         P         R   mAP@0.5        F1: 100%|█| 4/4 [00:02<00:00,  1.82it/s]\n",
      "     69/99      3.2G      4.83      7.62      4.94      17.4       144       128: 100%|█| 4/4 [00:02<00:00,  1.76it/s]\n",
      "               Class    Images   Targets         P         R   mAP@0.5        F1: 100%|█| 4/4 [00:02<00:00,  1.83it/s]\n",
      "     70/99      3.2G      5.01       8.8      4.76      18.6       132       128: 100%|█| 4/4 [00:02<00:00,  1.78it/s]\n",
      "               Class    Images   Targets         P         R   mAP@0.5        F1: 100%|█| 4/4 [00:02<00:00,  1.93it/s]\n",
      "     71/99      3.2G      4.79      8.27      4.46      17.5       131       128: 100%|█| 4/4 [00:02<00:00,  1.77it/s]\n",
      "               Class    Images   Targets         P         R   mAP@0.5        F1: 100%|█| 4/4 [00:02<00:00,  1.92it/s]\n",
      "     72/99      3.2G      4.62      8.16      4.43      17.2       147       128: 100%|█| 4/4 [00:02<00:00,  1.78it/s]\n",
      "               Class    Images   Targets         P         R   mAP@0.5        F1: 100%|█| 4/4 [00:02<00:00,  1.85it/s]\n",
      "     73/99      3.2G       4.6      9.11      4.56      18.3       144       128: 100%|█| 4/4 [00:02<00:00,  1.77it/s]\n",
      "               Class    Images   Targets         P         R   mAP@0.5        F1: 100%|█| 4/4 [00:02<00:00,  1.82it/s]\n",
      "     74/99      3.2G      4.65      8.63      4.74        18       178       128: 100%|█| 4/4 [00:02<00:00,  1.75it/s]\n",
      "               Class    Images   Targets         P         R   mAP@0.5        F1: 100%|█| 4/4 [00:02<00:00,  1.68it/s]\n",
      "     75/99      3.2G      4.36      7.81      4.81        17       116       128: 100%|█| 4/4 [00:02<00:00,  1.77it/s]\n",
      "               Class    Images   Targets         P         R   mAP@0.5        F1: 100%|█| 4/4 [00:02<00:00,  1.60it/s]\n",
      "     76/99      3.2G      4.45      8.03      4.59      17.1       132       128: 100%|█| 4/4 [00:02<00:00,  1.78it/s]\n",
      "               Class    Images   Targets         P         R   mAP@0.5        F1: 100%|█| 4/4 [00:02<00:00,  1.51it/s]\n",
      "     77/99      3.2G       4.6      7.81      4.62        17       157       128: 100%|█| 4/4 [00:02<00:00,  1.73it/s]\n",
      "               Class    Images   Targets         P         R   mAP@0.5        F1: 100%|█| 4/4 [00:02<00:00,  1.54it/s]\n",
      "     78/99      3.2G      4.76         8      4.73      17.5       152       128: 100%|█| 4/4 [00:02<00:00,  1.76it/s]\n",
      "               Class    Images   Targets         P         R   mAP@0.5        F1: 100%|█| 4/4 [00:02<00:00,  1.60it/s]\n",
      "     79/99      3.2G      4.48       8.4      4.87      17.8       194       128: 100%|█| 4/4 [00:02<00:00,  1.76it/s]\n",
      "               Class    Images   Targets         P         R   mAP@0.5        F1: 100%|█| 4/4 [00:02<00:00,  1.58it/s]\n",
      "     80/99      3.2G      4.63      7.36      4.42      16.4       149       128: 100%|█| 4/4 [00:02<00:00,  1.76it/s]\n",
      "               Class    Images   Targets         P         R   mAP@0.5        F1: 100%|█| 4/4 [00:02<00:00,  1.60it/s]\n",
      "     81/99      3.2G      4.31      7.38       4.7      16.4       154       128: 100%|█| 4/4 [00:02<00:00,  1.76it/s]\n",
      "               Class    Images   Targets         P         R   mAP@0.5        F1: 100%|█| 4/4 [00:02<00:00,  1.61it/s]\n",
      "     82/99      3.2G      4.32      7.03      4.67        16       149       128: 100%|█| 4/4 [00:02<00:00,  1.76it/s]\n",
      "               Class    Images   Targets         P         R   mAP@0.5        F1: 100%|█| 4/4 [00:02<00:00,  1.65it/s]\n",
      "     83/99      3.2G      4.36      7.46      4.37      16.2       146       128: 100%|█| 4/4 [00:02<00:00,  1.76it/s]\n",
      "               Class    Images   Targets         P         R   mAP@0.5        F1: 100%|█| 4/4 [00:02<00:00,  1.65it/s]\n",
      "     84/99      3.2G      4.24      6.89       4.7      15.8       128       128: 100%|█| 4/4 [00:02<00:00,  1.78it/s]\n",
      "               Class    Images   Targets         P         R   mAP@0.5        F1: 100%|█| 4/4 [00:02<00:00,  1.64it/s]\n",
      "     85/99      3.2G      4.21       7.4      4.45      16.1       125       128: 100%|█| 4/4 [00:02<00:00,  1.75it/s]\n",
      "               Class    Images   Targets         P         R   mAP@0.5        F1: 100%|█| 4/4 [00:02<00:00,  1.64it/s]\n",
      "     86/99      3.2G      4.38      8.18      4.43        17       142       128: 100%|█| 4/4 [00:02<00:00,  1.74it/s]\n",
      "               Class    Images   Targets         P         R   mAP@0.5        F1: 100%|█| 4/4 [00:02<00:00,  1.65it/s]\n",
      "     87/99      3.2G      4.32      8.33      4.42      17.1       172       128: 100%|█| 4/4 [00:02<00:00,  1.78it/s]\n",
      "               Class    Images   Targets         P         R   mAP@0.5        F1: 100%|█| 4/4 [00:02<00:00,  1.60it/s]\n",
      "     88/99      3.2G      4.16      6.75      4.32      15.2       124       128: 100%|█| 4/4 [00:02<00:00,  1.74it/s]\n",
      "               Class    Images   Targets         P         R   mAP@0.5        F1: 100%|█| 4/4 [00:02<00:00,  1.62it/s]\n",
      "     89/99      3.2G      4.23      7.85      4.42      16.5       115       128: 100%|█| 4/4 [00:02<00:00,  1.73it/s]\n",
      "               Class    Images   Targets         P         R   mAP@0.5        F1: 100%|█| 4/4 [00:02<00:00,  1.64it/s]\n",
      "     90/99      3.2G      4.27      6.97      4.28      15.5       158       128: 100%|█| 4/4 [00:02<00:00,  1.80it/s]\n",
      "               Class    Images   Targets         P         R   mAP@0.5        F1: 100%|█| 4/4 [00:02<00:00,  1.65it/s]\n",
      "     91/99      3.2G      4.27      7.38      4.64      16.3       127       128: 100%|█| 4/4 [00:02<00:00,  1.74it/s]\n",
      "               Class    Images   Targets         P         R   mAP@0.5        F1: 100%|█| 4/4 [00:02<00:00,  1.66it/s]\n",
      "     92/99      3.2G      4.02      6.68      4.46      15.2       114       128: 100%|█| 4/4 [00:02<00:00,  1.75it/s]\n",
      "               Class    Images   Targets         P         R   mAP@0.5        F1: 100%|█| 4/4 [00:02<00:00,  1.68it/s]\n",
      "     93/99      3.2G      4.15      7.18      4.29      15.6       118       128: 100%|█| 4/4 [00:02<00:00,  1.75it/s]\n",
      "               Class    Images   Targets         P         R   mAP@0.5        F1: 100%|█| 4/4 [00:02<00:00,  1.69it/s]\n",
      "     94/99      3.2G      4.29      7.07      4.62        16       117       128: 100%|█| 4/4 [00:02<00:00,  1.76it/s]\n",
      "               Class    Images   Targets         P         R   mAP@0.5        F1: 100%|█| 4/4 [00:02<00:00,  1.70it/s]\n",
      "     95/99      3.2G      3.96      7.55      4.44      15.9       153       128: 100%|█| 4/4 [00:02<00:00,  1.74it/s]\n",
      "               Class    Images   Targets         P         R   mAP@0.5        F1: 100%|█| 4/4 [00:02<00:00,  1.72it/s]\n",
      "     96/99      3.2G      3.95      6.96      4.36      15.3       124       128: 100%|█| 4/4 [00:02<00:00,  1.76it/s]\n",
      "               Class    Images   Targets         P         R   mAP@0.5        F1: 100%|█| 4/4 [00:02<00:00,  1.71it/s]\n",
      "     97/99      3.2G      4.18      7.32      4.37      15.9       153       128: 100%|█| 4/4 [00:02<00:00,  1.75it/s]\n",
      "               Class    Images   Targets         P         R   mAP@0.5        F1: 100%|█| 4/4 [00:02<00:00,  1.68it/s]\n",
      "     98/99      3.2G      4.21      7.65      4.24      16.1       144       128: 100%|█| 4/4 [00:02<00:00,  1.75it/s]\n",
      "               Class    Images   Targets         P         R   mAP@0.5        F1: 100%|█| 4/4 [00:02<00:00,  1.65it/s]\n",
      "     99/99      3.2G      4.03      6.57      4.35        15       146       128: 100%|█| 4/4 [00:02<00:00,  1.77it/s]\n",
      "               Class    Images   Targets         P         R   mAP@0.5        F1: 100%|█| 4/4 [00:02<00:00,  1.64it/s]\n"
     ]
    }
   ],
   "source": [
    "!python3 train.py --data data/coco64.data --weights weights/darknet53.conv.74 --img-size 128 --epochs 100 > ${MNTDIR}/${PROJECT_NAME}_${RUN_NAME}_logs.txt ;"
   ]
  },
  {
   "cell_type": "markdown",
   "metadata": {
    "colab_type": "text",
    "id": "0eq1SMWl6Sfn"
   },
   "source": [
    "Run `test.py` to evaluate the performance of a trained darknet or PyTorch model:"
   ]
  },
  {
   "cell_type": "code",
   "execution_count": 57,
   "metadata": {
    "colab": {
     "base_uri": "https://localhost:8080/",
     "height": 1000
    },
    "colab_type": "code",
    "id": "0v0RFtO-WG9o",
    "outputId": "6791f795-cb10-4da3-932f-c4ac47574601",
    "scrolled": true
   },
   "outputs": [
    {
     "name": "stdout",
     "output_type": "stream",
     "text": [
      "Namespace(augment=False, batch_size=16, cfg='cfg/yolov3_train.cfg', conf_thres=0.001, data='data/coco64.data', device='', img_size=128, iou_thres=0.6, save_json=True, single_cls=False, task='test', weights='/home/experiment/artifacts/weights/best.pt')\n",
      "Using CUDA device0 _CudaDeviceProperties(name='Quadro P1000', total_memory=4031MB)\n",
      "\n",
      "Model Summary: 222 layers, 6.19491e+07 parameters, 6.19491e+07 gradients\n",
      "Fusing layers...\n",
      "Model Summary: 150 layers, 6.19228e+07 parameters, 6.19228e+07 gradients\n",
      "Caching labels (63 found, 1 missing, 0 empty, 0 duplicate, for 64 images): 100%|█| 64/64 [00:00<00:00, 3753.66it/s]\n",
      "               Class    Images   Targets         P         R   mAP@0.5        F1: 100%|█| 4/4 [00:08<00:00,  2.10s/it]\n",
      "                 all        64       532     0.209     0.181     0.166     0.153\n",
      "              person        64       183     0.232     0.452     0.289     0.307\n",
      "             bicycle        64         2     0.372       0.5     0.496     0.427\n",
      "                 car        64        40     0.144     0.175    0.0855     0.158\n",
      "          motorcycle        64        15     0.294       0.2     0.226     0.238\n",
      "                 bus        64         1     0.186         1     0.995     0.313\n",
      "               train        64         2     0.413       0.5     0.562     0.452\n",
      "               truck        64         5     0.258       0.4     0.397     0.314\n",
      "                boat        64        13     0.286    0.0769    0.0791     0.121\n",
      "       traffic light        64         9         0         0         0         0\n",
      "           stop sign        64         1         0         0    0.0553         0\n",
      "       parking meter        64         5         0         0         0         0\n",
      "               bench        64         3      0.44     0.667     0.665      0.53\n",
      "                bird        64        19         0         0   0.00267         0\n",
      "                 cat        64         2         1       0.5     0.514     0.667\n",
      "                 dog        64         6         0         0   0.00638         0\n",
      "               horse        64         5         0         0    0.0789         0\n",
      "            elephant        64         4     0.445      0.25     0.318      0.32\n",
      "                bear        64         1         0         0    0.0332         0\n",
      "             giraffe        64         1         1         1     0.995         1\n",
      "            backpack        64         4         0         0   0.00275         0\n",
      "            umbrella        64         1         1         1     0.995         1\n",
      "             handbag        64         7         0         0    0.0548         0\n",
      "                 tie        64         8         0         0   0.00103         0\n",
      "            suitcase        64        17         1    0.0588    0.0678     0.111\n",
      "             frisbee        64         1         0         0         0         0\n",
      "                skis        64         2         0         0   0.00185         0\n",
      "         sports ball        64        10         0         0         0         0\n",
      "      baseball glove        64         7         0         0         0         0\n",
      "          skateboard        64         6         0         0  0.000976         0\n",
      "           surfboard        64         5         0         0         0         0\n",
      "       tennis racket        64         2         0         0   0.00482         0\n",
      "              bottle        64        10         1       0.1    0.0967     0.182\n",
      "          wine glass        64         2         0         0         0         0\n",
      "                 cup        64         6         0         0  0.000714         0\n",
      "                fork        64         1         0         0         0         0\n",
      "               knife        64         3         0         0   0.00792         0\n",
      "               spoon        64         1         0         0         0         0\n",
      "                bowl        64         4         1      0.25      0.25       0.4\n",
      "              banana        64         5     0.624       0.2     0.199     0.303\n",
      "            broccoli        64         3         0         0   0.00342         0\n",
      "              carrot        64         7         0         0    0.0021         0\n",
      "               donut        64        28     0.237     0.167    0.0901     0.196\n",
      "                cake        64         7         0         0     0.112         0\n",
      "               chair        64        13         0         0    0.0101         0\n",
      "               couch        64         3         1     0.333     0.341       0.5\n",
      "        potted plant        64         1         0         0    0.0136         0\n",
      "                 bed        64         3     0.284         1      0.61     0.443\n",
      "        dining table        64         5     0.167       0.8     0.271     0.276\n",
      "              toilet        64         3     0.103     0.308    0.0641     0.154\n",
      "              laptop        64         2         0         0    0.0788         0\n",
      "              remote        64         1         0         0    0.0027         0\n",
      "                sink        64         1         0         0   0.00167         0\n",
      "        refrigerator        64         1         0         0         0         0\n",
      "                book        64        17         0         0   0.00222         0\n",
      "               clock        64         1         0         0   0.00327         0\n",
      "                vase        64         4     0.236       0.5     0.373      0.32\n",
      "          teddy bear        64        12     0.388    0.0833     0.142     0.137\n",
      "          toothbrush        64         1         0         0         0         0\n",
      "Speed: 64.4/22.5/86.9 ms inference/NMS/total per 128x128 image at batch-size 16\n",
      "\n",
      "COCO mAP with pycocotools...\n",
      "loading annotations into memory...\n",
      "Done (t=0.68s)\n",
      "creating index...\n",
      "index created!\n",
      "Loading and preparing results...\n",
      "Traceback (most recent call last):\n",
      "  File \"test.py\", line 255, in <module>\n",
      "    opt.augment)\n",
      "  File \"test.py\", line 210, in test\n",
      "    cocoDt = cocoGt.loadRes('results.json')  # initialize COCO pred api\n",
      "  File \"/opt/conda/lib/python3.7/site-packages/pycocotools/coco.py\", line 317, in loadRes\n",
      "    'Results do not correspond to current coco set'\n",
      "AssertionError: Results do not correspond to current coco set\n"
     ]
    }
   ],
   "source": [
    "!python3 test.py --data data/coco64.data --weights /home/experiment/artifacts/weights/best.pt --cfg cfg/yolov3_train.cfg --save-json --img-size 128  # 0.565 mAP"
   ]
  },
  {
   "cell_type": "code",
   "execution_count": null,
   "metadata": {},
   "outputs": [],
   "source": []
  }
 ],
 "metadata": {
  "accelerator": "GPU",
  "colab": {
   "collapsed_sections": [],
   "name": "ultralytics/YOLOv3",
   "provenance": [],
   "version": "0.3.2"
  },
  "kernelspec": {
   "display_name": "Python 3",
   "language": "python",
   "name": "python3"
  },
  "language_info": {
   "codemirror_mode": {
    "name": "ipython",
    "version": 3
   },
   "file_extension": ".py",
   "mimetype": "text/x-python",
   "name": "python",
   "nbconvert_exporter": "python",
   "pygments_lexer": "ipython3",
   "version": "3.7.4"
  }
 },
 "nbformat": 4,
 "nbformat_minor": 1
}
