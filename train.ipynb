{
 "cells": [
  {
   "cell_type": "code",
   "execution_count": 2,
   "metadata": {
    "scrolled": true
   },
   "outputs": [
    {
     "name": "stdout",
     "output_type": "stream",
     "text": [
      "env: MNTDIR=/home/experiment\n",
      "env: PROJECT_NAME=SEAFARI\n",
      "env: RUN_NAME=replication\n",
      "env: EPOCHS=100\n",
      "env: ANCHORS=10,13,  16,30,  33,23,  30,61,  62,45,  59,119,  116,90,  156,198,  373,326\n",
      "env: ANCHORS_NUM=9\n",
      "env: CLASSES=80\n",
      "env: dataset=/home/coco\n"
     ]
    }
   ],
   "source": [
    "#Set all information relating to the training run here\n",
    "\n",
    "%env MNTDIR = /home/experiment\n",
    "%env PROJECT_NAME = SEAFARI\n",
    "%env RUN_NAME = replication\n",
    "%env EPOCHS=100\n",
    "%env IMG_SIZE=312\n",
    "%env ANCHORS=10,13,  16,30,  33,23,  30,61,  62,45,  59,119,  116,90,  156,198,  373,326\n",
    "%env ANCHORS_NUM=9\n",
    "%env CLASSES=80\n",
    "\n",
    "%env dataset = /home/coco\n"
   ]
  },
  {
   "cell_type": "code",
   "execution_count": 3,
   "metadata": {
    "colab": {
     "base_uri": "https://localhost:8080/",
     "height": 34
    },
    "colab_type": "code",
    "id": "e5ylFIvlCEym",
    "outputId": "fbc88edd-7b26-4735-83bf-b404b76f9c90",
    "scrolled": true
   },
   "outputs": [
    {
     "name": "stdout",
     "output_type": "stream",
     "text": [
      "PyTorch 1.4.0 _CudaDeviceProperties(name='Quadro P1000', major=6, minor=1, total_memory=4031MB, multi_processor_count=4)\n"
     ]
    }
   ],
   "source": [
    "import time\n",
    "import glob\n",
    "import torch\n",
    "import os\n",
    "\n",
    "from IPython.display import Image, clear_output \n",
    "print('PyTorch %s %s' % (torch.__version__, torch.cuda.get_device_properties(0) if torch.cuda.is_available() else 'CPU'))"
   ]
  },
  {
   "cell_type": "markdown",
   "metadata": {},
   "source": [
    "Load Tensorboard Magic Extension before training"
   ]
  },
  {
   "cell_type": "code",
   "execution_count": 4,
   "metadata": {
    "scrolled": true
   },
   "outputs": [
    {
     "name": "stdout",
     "output_type": "stream",
     "text": [
      "Requirement already satisfied: tensorboard in /opt/conda/lib/python3.7/site-packages (2.2.0)\n",
      "Requirement already satisfied: tensorboard-plugin-wit>=1.6.0 in /opt/conda/lib/python3.7/site-packages (from tensorboard) (1.6.0.post3)\n",
      "Requirement already satisfied: absl-py>=0.4 in /opt/conda/lib/python3.7/site-packages (from tensorboard) (0.9.0)\n",
      "Requirement already satisfied: six>=1.10.0 in /opt/conda/lib/python3.7/site-packages (from tensorboard) (1.12.0)\n",
      "Requirement already satisfied: google-auth<2,>=1.6.3 in /opt/conda/lib/python3.7/site-packages (from tensorboard) (1.13.1)\n",
      "Requirement already satisfied: google-auth-oauthlib<0.5,>=0.4.1 in /opt/conda/lib/python3.7/site-packages (from tensorboard) (0.4.1)\n",
      "Requirement already satisfied: protobuf>=3.6.0 in /opt/conda/lib/python3.7/site-packages (from tensorboard) (3.11.3)\n",
      "Requirement already satisfied: grpcio>=1.24.3 in /opt/conda/lib/python3.7/site-packages (from tensorboard) (1.28.1)\n",
      "Requirement already satisfied: markdown>=2.6.8 in /opt/conda/lib/python3.7/site-packages (from tensorboard) (3.2.1)\n",
      "Requirement already satisfied: numpy>=1.12.0 in /opt/conda/lib/python3.7/site-packages (from tensorboard) (1.17.4)\n",
      "Requirement already satisfied: setuptools>=41.0.0 in /opt/conda/lib/python3.7/site-packages (from tensorboard) (41.4.0)\n",
      "Requirement already satisfied: wheel>=0.26; python_version >= \"3\" in /opt/conda/lib/python3.7/site-packages (from tensorboard) (0.33.6)\n",
      "Requirement already satisfied: requests<3,>=2.21.0 in /opt/conda/lib/python3.7/site-packages (from tensorboard) (2.22.0)\n",
      "Requirement already satisfied: werkzeug>=0.11.15 in /opt/conda/lib/python3.7/site-packages (from tensorboard) (1.0.1)\n",
      "Requirement already satisfied: rsa<4.1,>=3.1.4 in /opt/conda/lib/python3.7/site-packages (from google-auth<2,>=1.6.3->tensorboard) (3.4.2)\n",
      "Requirement already satisfied: pyasn1-modules>=0.2.1 in /opt/conda/lib/python3.7/site-packages (from google-auth<2,>=1.6.3->tensorboard) (0.2.8)\n",
      "Requirement already satisfied: cachetools<5.0,>=2.0.0 in /opt/conda/lib/python3.7/site-packages (from google-auth<2,>=1.6.3->tensorboard) (4.1.0)\n",
      "Requirement already satisfied: requests-oauthlib>=0.7.0 in /opt/conda/lib/python3.7/site-packages (from google-auth-oauthlib<0.5,>=0.4.1->tensorboard) (1.3.0)\n",
      "Requirement already satisfied: chardet<3.1.0,>=3.0.2 in /opt/conda/lib/python3.7/site-packages (from requests<3,>=2.21.0->tensorboard) (3.0.4)\n",
      "Requirement already satisfied: certifi>=2017.4.17 in /opt/conda/lib/python3.7/site-packages (from requests<3,>=2.21.0->tensorboard) (2019.11.28)\n",
      "Requirement already satisfied: urllib3!=1.25.0,!=1.25.1,<1.26,>=1.21.1 in /opt/conda/lib/python3.7/site-packages (from requests<3,>=2.21.0->tensorboard) (1.24.2)\n",
      "Requirement already satisfied: idna<2.9,>=2.5 in /opt/conda/lib/python3.7/site-packages (from requests<3,>=2.21.0->tensorboard) (2.8)\n",
      "Requirement already satisfied: pyasn1>=0.1.3 in /opt/conda/lib/python3.7/site-packages (from rsa<4.1,>=3.1.4->google-auth<2,>=1.6.3->tensorboard) (0.4.8)\n",
      "Requirement already satisfied: oauthlib>=3.0.0 in /opt/conda/lib/python3.7/site-packages (from requests-oauthlib>=0.7.0->google-auth-oauthlib<0.5,>=0.4.1->tensorboard) (3.1.0)\n"
     ]
    }
   ],
   "source": [
    "!pip install tensorboard\n",
    "%load_ext tensorboard"
   ]
  },
  {
   "cell_type": "markdown",
   "metadata": {},
   "source": [
    "Load Tensorboard before training run:"
   ]
  },
  {
   "cell_type": "code",
   "execution_count": 5,
   "metadata": {
    "scrolled": true
   },
   "outputs": [
    {
     "data": {
      "text/html": [
       "\n",
       "      <iframe id=\"tensorboard-frame-fa0848c788ace582\" width=\"100%\" height=\"800\" frameborder=\"0\">\n",
       "      </iframe>\n",
       "      <script>\n",
       "        (function() {\n",
       "          const frame = document.getElementById(\"tensorboard-frame-fa0848c788ace582\");\n",
       "          const url = new URL(\"/\", window.location);\n",
       "          url.port = 6006;\n",
       "          frame.src = url;\n",
       "        })();\n",
       "      </script>\n",
       "  "
      ],
      "text/plain": [
       "<IPython.core.display.HTML object>"
      ]
     },
     "metadata": {},
     "output_type": "display_data"
    }
   ],
   "source": [
    "%tensorboard --logdir=runs --host 0.0.0.0 --port 6006"
   ]
  },
  {
   "cell_type": "markdown",
   "metadata": {
    "colab_type": "text",
    "id": "ijTFlKcp6JVy"
   },
   "source": [
    "Run `train.py` to train YOLOv3-SPP starting from a darknet53 backbone:"
   ]
  },
  {
   "cell_type": "code",
   "execution_count": 8,
   "metadata": {
    "colab": {},
    "colab_type": "code",
    "id": "Mupsoa0lzSPo",
    "scrolled": true
   },
   "outputs": [
    {
     "name": "stdout",
     "output_type": "stream",
     "text": [
      "Caching labels (63 found, 1 missing, 0 empty, 0 duplicate, for 64 images): 100%|█| 64/64 [00:00<00:00, 8610.32it/s]\n",
      "Caching labels (63 found, 1 missing, 0 empty, 0 duplicate, for 64 images): 100%|█| 64/64 [00:00<00:00, 8516.35it/s]\n",
      "      0/99     1.17G       6.5      26.9      6.35      39.7       122        64: 100%|█| 4/4 [00:02<00:00,  1.58it/s]\n",
      "               Class    Images   Targets         P         R   mAP@0.5        F1: 100%|█| 4/4 [00:01<00:00,  2.75it/s]\n",
      "      1/99     1.17G      5.82      28.1      5.76      39.7       117        64: 100%|█| 4/4 [00:01<00:00,  3.45it/s]\n",
      "               Class    Images   Targets         P         R   mAP@0.5        F1: 100%|█| 4/4 [00:00<00:00,  8.93it/s]\n",
      "      2/99     1.17G      4.97      26.1      5.16      36.3       106        64: 100%|█| 4/4 [00:01<00:00,  3.48it/s]\n",
      "               Class    Images   Targets         P         R   mAP@0.5        F1: 100%|█| 4/4 [00:00<00:00,  7.30it/s]\n",
      "      3/99     1.17G      4.98      23.5      5.15      33.7        81        64: 100%|█| 4/4 [00:01<00:00,  3.02it/s]\n",
      "               Class    Images   Targets         P         R   mAP@0.5        F1: 100%|█| 4/4 [00:00<00:00,  6.79it/s]\n",
      "      4/99     1.17G      5.55      22.3      5.76      33.6        96        64: 100%|█| 4/4 [00:01<00:00,  3.16it/s]\n",
      "               Class    Images   Targets         P         R   mAP@0.5        F1: 100%|█| 4/4 [00:00<00:00,  7.08it/s]\n",
      "      5/99     1.17G      6.23        24      6.35      36.6       156        64: 100%|█| 4/4 [00:01<00:00,  3.22it/s]\n",
      "               Class    Images   Targets         P         R   mAP@0.5        F1: 100%|█| 4/4 [00:00<00:00,  6.08it/s]\n",
      "      6/99     1.17G      6.29      23.1      6.21      35.6        86        64: 100%|█| 4/4 [00:01<00:00,  3.13it/s]\n",
      "               Class    Images   Targets         P         R   mAP@0.5        F1: 100%|█| 4/4 [00:06<00:00,  1.64s/it]\n",
      "      7/99     2.02G      5.89      23.2      6.16      35.3       127        64: 100%|█| 4/4 [00:01<00:00,  3.17it/s]\n",
      "               Class    Images   Targets         P         R   mAP@0.5        F1: 100%|█| 4/4 [00:06<00:00,  1.63s/it]\n",
      "      8/99     2.02G      5.49        24      5.53        35       109        64: 100%|█| 4/4 [00:01<00:00,  3.02it/s]\n",
      "               Class    Images   Targets         P         R   mAP@0.5        F1: 100%|█| 4/4 [00:06<00:00,  1.62s/it]\n",
      "      9/99     2.02G      4.74      22.6      4.98      32.3        89        64: 100%|█| 4/4 [00:01<00:00,  3.17it/s]\n",
      "               Class    Images   Targets         P         R   mAP@0.5        F1: 100%|█| 4/4 [00:02<00:00,  1.34it/s]\n",
      "     10/99     2.02G      4.62      19.8      4.96      29.3       104        64: 100%|█| 4/4 [00:01<00:00,  3.16it/s]\n",
      "               Class    Images   Targets         P         R   mAP@0.5        F1: 100%|█| 4/4 [00:00<00:00,  5.89it/s]\n",
      "     11/99     2.02G      5.21      23.1      5.58      33.9       111        64: 100%|█| 4/4 [00:01<00:00,  3.16it/s]\n",
      "               Class    Images   Targets         P         R   mAP@0.5        F1: 100%|█| 4/4 [00:00<00:00,  5.94it/s]\n",
      "     12/99     2.02G      5.94      22.1      5.45      33.5        91        64: 100%|█| 4/4 [00:01<00:00,  3.15it/s]\n",
      "               Class    Images   Targets         P         R   mAP@0.5        F1: 100%|█| 4/4 [00:00<00:00,  5.94it/s]\n",
      "     13/99     2.02G      4.55        20       4.9      29.4        88        64: 100%|█| 4/4 [00:01<00:00,  3.17it/s]\n",
      "               Class    Images   Targets         P         R   mAP@0.5        F1: 100%|█| 4/4 [00:00<00:00,  6.00it/s]\n",
      "     14/99     2.02G      4.53      18.8      4.77      28.1       101        64: 100%|█| 4/4 [00:01<00:00,  3.10it/s]\n",
      "               Class    Images   Targets         P         R   mAP@0.5        F1: 100%|█| 4/4 [00:00<00:00,  6.08it/s]\n",
      "     15/99     2.02G      4.49      18.3      4.82      27.6        86        64: 100%|█| 4/4 [00:01<00:00,  3.00it/s]\n",
      "               Class    Images   Targets         P         R   mAP@0.5        F1: 100%|█| 4/4 [00:00<00:00,  5.97it/s]\n",
      "     16/99     2.02G       6.2        18      5.25      29.4        69        64: 100%|█| 4/4 [00:01<00:00,  3.14it/s]\n",
      "               Class    Images   Targets         P         R   mAP@0.5        F1: 100%|█| 4/4 [00:00<00:00,  6.10it/s]\n",
      "     17/99     2.02G      5.95        19      5.18      30.1       110        64: 100%|█| 4/4 [00:01<00:00,  3.19it/s]\n",
      "               Class    Images   Targets         P         R   mAP@0.5        F1: 100%|█| 4/4 [00:00<00:00,  5.66it/s]\n",
      "     18/99     2.02G       5.5      19.7      5.26      30.5        80        64: 100%|█| 4/4 [00:01<00:00,  2.91it/s]\n",
      "               Class    Images   Targets         P         R   mAP@0.5        F1: 100%|█| 4/4 [00:00<00:00,  5.01it/s]\n",
      "     19/99     2.02G      4.42      17.2      4.65      26.3        98        64: 100%|█| 4/4 [00:01<00:00,  3.02it/s]\n",
      "               Class    Images   Targets         P         R   mAP@0.5        F1: 100%|█| 4/4 [00:00<00:00,  5.58it/s]\n",
      "     20/99     2.02G      5.28      19.2      4.87      29.3       109        64: 100%|█| 4/4 [00:01<00:00,  2.95it/s]\n",
      "               Class    Images   Targets         P         R   mAP@0.5        F1: 100%|█| 4/4 [00:00<00:00,  5.10it/s]\n",
      "     21/99     2.02G      6.85      18.7      5.31      30.9       134        64: 100%|█| 4/4 [00:01<00:00,  2.93it/s]\n",
      "               Class    Images   Targets         P         R   mAP@0.5        F1: 100%|█| 4/4 [00:00<00:00,  5.45it/s]\n",
      "     22/99     2.02G       9.5      21.2      6.85      37.6       153        64: 100%|█| 4/4 [00:01<00:00,  3.06it/s]\n",
      "               Class    Images   Targets         P         R   mAP@0.5        F1: 100%|█| 4/4 [00:00<00:00,  5.01it/s]\n",
      "     23/99     2.02G      5.77        17      4.85      27.6       110        64: 100%|█| 4/4 [00:01<00:00,  3.11it/s]\n",
      "               Class    Images   Targets         P         R   mAP@0.5        F1: 100%|█| 4/4 [00:00<00:00,  4.53it/s]\n",
      "     24/99     2.02G       5.1      16.7       4.8      26.6       103        64: 100%|█| 4/4 [00:01<00:00,  3.13it/s]\n",
      "               Class    Images   Targets         P         R   mAP@0.5        F1: 100%|█| 4/4 [00:00<00:00,  4.50it/s]\n",
      "     25/99     2.02G       5.6      18.1      5.16      28.8       113        64: 100%|█| 4/4 [00:01<00:00,  2.95it/s]\n",
      "               Class    Images   Targets         P         R   mAP@0.5        F1: 100%|█| 4/4 [00:00<00:00,  4.71it/s]\n",
      "     26/99     2.02G      4.25      17.6      4.15      26.1       120        64: 100%|█| 4/4 [00:01<00:00,  3.13it/s]\n",
      "               Class    Images   Targets         P         R   mAP@0.5        F1: 100%|█| 4/4 [00:00<00:00,  4.40it/s]\n",
      "     27/99     2.02G      5.85      15.8      4.83      26.5        74        64: 100%|█| 4/4 [00:01<00:00,  3.16it/s]\n",
      "               Class    Images   Targets         P         R   mAP@0.5        F1: 100%|█| 4/4 [00:00<00:00,  4.25it/s]\n",
      "     28/99     2.02G      3.96      15.3      4.23      23.5       116        64: 100%|█| 4/4 [00:01<00:00,  3.18it/s]\n",
      "               Class    Images   Targets         P         R   mAP@0.5        F1: 100%|█| 4/4 [00:00<00:00,  4.10it/s]\n",
      "     29/99     2.02G      4.86      15.6      4.48        25        89        64: 100%|█| 4/4 [00:01<00:00,  3.14it/s]\n",
      "               Class    Images   Targets         P         R   mAP@0.5        F1: 100%|█| 4/4 [00:01<00:00,  3.92it/s]\n",
      "     30/99     2.02G      4.11      15.4      4.07      23.6        91        64: 100%|█| 4/4 [00:01<00:00,  3.19it/s]\n",
      "               Class    Images   Targets         P         R   mAP@0.5        F1: 100%|█| 4/4 [00:00<00:00,  4.09it/s]\n",
      "     31/99     2.02G      4.04      13.2      4.16      21.5       102        64: 100%|█| 4/4 [00:01<00:00,  3.22it/s]\n",
      "               Class    Images   Targets         P         R   mAP@0.5        F1: 100%|█| 4/4 [00:01<00:00,  3.62it/s]\n",
      "     32/99     2.02G      6.73      17.1      5.22      29.1       116        64: 100%|█| 4/4 [00:01<00:00,  3.10it/s]\n",
      "               Class    Images   Targets         P         R   mAP@0.5        F1: 100%|█| 4/4 [00:01<00:00,  3.53it/s]\n",
      "     33/99     2.02G      4.08      13.8         4      21.9       109        64: 100%|█| 4/4 [00:01<00:00,  3.14it/s]\n",
      "               Class    Images   Targets         P         R   mAP@0.5        F1: 100%|█| 4/4 [00:01<00:00,  3.77it/s]\n",
      "     34/99     2.02G      3.83        15      4.07      22.9        84        64: 100%|█| 4/4 [00:01<00:00,  3.22it/s]\n",
      "               Class    Images   Targets         P         R   mAP@0.5        F1: 100%|█| 4/4 [00:01<00:00,  3.03it/s]\n",
      "     35/99     2.02G      5.01      15.2      4.28      24.5       105        64: 100%|█| 4/4 [00:01<00:00,  3.07it/s]\n",
      "               Class    Images   Targets         P         R   mAP@0.5        F1: 100%|█| 4/4 [00:01<00:00,  3.16it/s]\n",
      "     36/99     2.02G      5.57      15.4      4.95      25.9       107        64: 100%|█| 4/4 [00:01<00:00,  3.16it/s]\n",
      "               Class    Images   Targets         P         R   mAP@0.5        F1: 100%|█| 4/4 [00:01<00:00,  3.36it/s]\n",
      "     37/99     2.02G      5.31      13.5      4.56      23.3       103        64: 100%|█| 4/4 [00:01<00:00,  3.05it/s]\n",
      "               Class    Images   Targets         P         R   mAP@0.5        F1: 100%|█| 4/4 [00:01<00:00,  3.66it/s]\n",
      "     38/99     2.02G      3.86      14.3      3.88      22.1       120        64: 100%|█| 4/4 [00:01<00:00,  2.88it/s]\n",
      "               Class    Images   Targets         P         R   mAP@0.5        F1: 100%|█| 4/4 [00:01<00:00,  3.69it/s]\n",
      "     39/99     2.02G      3.91      12.9      4.02      20.8       106        64: 100%|█| 4/4 [00:01<00:00,  3.09it/s]\n",
      "               Class    Images   Targets         P         R   mAP@0.5        F1: 100%|█| 4/4 [00:00<00:00,  4.05it/s]\n",
      "     40/99     2.02G      5.95      14.5      4.49      24.9       104        64: 100%|█| 4/4 [00:01<00:00,  2.89it/s]\n",
      "               Class    Images   Targets         P         R   mAP@0.5        F1: 100%|█| 4/4 [00:01<00:00,  3.77it/s]\n",
      "     41/99     2.02G      4.49      13.4      4.39      22.3        99        64: 100%|█| 4/4 [00:01<00:00,  2.89it/s]\n",
      "               Class    Images   Targets         P         R   mAP@0.5        F1: 100%|█| 4/4 [00:01<00:00,  3.35it/s]\n",
      "     42/99     2.02G      3.69      13.7      3.94      21.3       105        64: 100%|█| 4/4 [00:01<00:00,  3.16it/s]\n",
      "               Class    Images   Targets         P         R   mAP@0.5        F1: 100%|█| 4/4 [00:01<00:00,  3.15it/s]\n",
      "     43/99     2.02G       3.8      13.7      4.03      21.5        97        64: 100%|█| 4/4 [00:01<00:00,  3.08it/s]\n",
      "               Class    Images   Targets         P         R   mAP@0.5        F1: 100%|█| 4/4 [00:01<00:00,  3.05it/s]\n",
      "     44/99     2.02G      5.92      14.3      4.54      24.8        93        64: 100%|█| 4/4 [00:01<00:00,  2.94it/s]\n",
      "               Class    Images   Targets         P         R   mAP@0.5        F1: 100%|█| 4/4 [00:01<00:00,  2.93it/s]\n",
      "     45/99     2.02G      4.77      13.7       4.3      22.7        90        64: 100%|█| 4/4 [00:01<00:00,  2.96it/s]\n",
      "               Class    Images   Targets         P         R   mAP@0.5        F1: 100%|█| 4/4 [00:01<00:00,  2.99it/s]\n",
      "     46/99     2.02G      5.47      13.7      4.46      23.7        88        64: 100%|█| 4/4 [00:01<00:00,  2.99it/s]\n",
      "               Class    Images   Targets         P         R   mAP@0.5        F1: 100%|█| 4/4 [00:01<00:00,  2.57it/s]\n",
      "     47/99     2.02G      5.46      14.4      3.78      23.6       115        64: 100%|█| 4/4 [00:01<00:00,  3.05it/s]\n",
      "               Class    Images   Targets         P         R   mAP@0.5        F1:   0%| | 0/4 [00:00<?, ?it/s]^C\n",
      "Traceback (most recent call last):\n",
      "  File \"train.py\", line 503, in <module>\n",
      "    train()  # train normally\n",
      "  File \"train.py\", line 358, in train\n",
      "    dataloader=testloader)\n",
      "  File \"/home/DSAID_Ultralytics/test.py\", line 79, in test\n",
      "    for batch_i, (imgs, targets, paths, shapes) in enumerate(tqdm(dataloader, desc=s)):\n",
      "  File \"/opt/conda/lib/python3.7/site-packages/tqdm/std.py\", line 1081, in __iter__\n",
      "    for obj in iterable:\n",
      "  File \"/opt/conda/lib/python3.7/site-packages/torch/utils/data/dataloader.py\", line 279, in __iter__\n",
      "    return _MultiProcessingDataLoaderIter(self)\n",
      "  File \"/opt/conda/lib/python3.7/site-packages/torch/utils/data/dataloader.py\", line 719, in __init__\n",
      "    w.start()\n",
      "  File \"/opt/conda/lib/python3.7/multiprocessing/process.py\", line 116, in start\n",
      "    del self._target, self._args, self._kwargs\n",
      "KeyboardInterrupt\n",
      "               Class    Images   Targets         P         R   mAP@0.5        F1:   0%| | 0/4 [00:00<?, ?it/s]\n"
     ]
    }
   ],
   "source": [
    "!python3 train.py --data data/coco64.data --weights weights/darknet53.conv.74 --img-size ${IMG_SIZE} --epochs ${EPOCHS} > ${MNTDIR}/${PROJECT_NAME}_${RUN_NAME}_logs.txt ;"
   ]
  },
  {
   "cell_type": "markdown",
   "metadata": {
    "colab_type": "text",
    "id": "0eq1SMWl6Sfn"
   },
   "source": [
    "Run `test.py` to evaluate the performance of a trained darknet or PyTorch model:"
   ]
  },
  {
   "cell_type": "code",
   "execution_count": null,
   "metadata": {
    "colab": {
     "base_uri": "https://localhost:8080/",
     "height": 1000
    },
    "colab_type": "code",
    "id": "0v0RFtO-WG9o",
    "outputId": "6791f795-cb10-4da3-932f-c4ac47574601",
    "scrolled": false
   },
   "outputs": [],
   "source": [
    "!python3 test.py --data data/coco64.data --weights /home/experiment/artifacts/weights/best.pt --cfg cfg/yolov3_train.cfg --save-json --img-size ${IMG_SIZE}  # 0.565 mAP"
   ]
  },
  {
   "cell_type": "code",
   "execution_count": null,
   "metadata": {
    "scrolled": true
   },
   "outputs": [],
   "source": []
  }
 ],
 "metadata": {
  "accelerator": "GPU",
  "colab": {
   "collapsed_sections": [],
   "name": "ultralytics/YOLOv3",
   "provenance": [],
   "version": "0.3.2"
  },
  "kernelspec": {
   "display_name": "Python 3",
   "language": "python",
   "name": "python3"
  },
  "language_info": {
   "codemirror_mode": {
    "name": "ipython",
    "version": 3
   },
   "file_extension": ".py",
   "mimetype": "text/x-python",
   "name": "python",
   "nbconvert_exporter": "python",
   "pygments_lexer": "ipython3",
   "version": "3.7.4"
  }
 },
 "nbformat": 4,
 "nbformat_minor": 1
}
