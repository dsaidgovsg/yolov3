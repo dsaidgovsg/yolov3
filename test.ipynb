{
 "cells": [
  {
   "cell_type": "code",
   "execution_count": null,
   "metadata": {
    "scrolled": true
   },
   "outputs": [],
   "source": [
    "#Set all information relating to the training run here\n",
    "\n",
    "%env MNTDIR = /home/experiment\n",
    "%env PROJECT_NAME = SEAFARI\n",
    "%env RUN_NAME = replication\n",
    "%env EPOCHS=1000\n",
    "%env IMG_SIZE=448\n",
    "%env ANCHORS=36, 17,  78, 29,  99, 53, 152, 39, 189, 61, 136, 96, 311, 65, 226,104, 366,120\n",
    "%env ANCHORS_NUM=9\n",
    "%env CLASSES=6"
   ]
  },
  {
   "cell_type": "code",
   "execution_count": null,
   "metadata": {
    "colab": {
     "base_uri": "https://localhost:8080/",
     "height": 34
    },
    "colab_type": "code",
    "id": "e5ylFIvlCEym",
    "outputId": "fbc88edd-7b26-4735-83bf-b404b76f9c90",
    "scrolled": true
   },
   "outputs": [],
   "source": [
    "import time\n",
    "import glob\n",
    "import torch\n",
    "import os\n",
    "\n",
    "from IPython.display import Image, clear_output \n",
    "print('PyTorch %s %s' % (torch.__version__, torch.cuda.get_device_properties(0) if torch.cuda.is_available() else 'CPU'))"
   ]
  },
  {
   "cell_type": "markdown",
   "metadata": {},
   "source": [
    "Load Tensorboard Magic Extension before training"
   ]
  },
  {
   "cell_type": "code",
   "execution_count": null,
   "metadata": {},
   "outputs": [],
   "source": [
    "!pip install tensorboard\n",
    "%load_ext tensorboard"
   ]
  },
  {
   "cell_type": "markdown",
   "metadata": {},
   "source": [
    "Load Tensorboard before training run:"
   ]
  },
  {
   "cell_type": "code",
   "execution_count": null,
   "metadata": {},
   "outputs": [],
   "source": [
    "%tensorboard --logdir=runs --host 0.0.0.0 --port 6006"
   ]
  },
  {
   "cell_type": "markdown",
   "metadata": {
    "colab_type": "text",
    "id": "0eq1SMWl6Sfn"
   },
   "source": [
    "Run `test.py` to evaluate the performance of a trained darknet or PyTorch model:"
   ]
  },
  {
   "cell_type": "code",
   "execution_count": null,
   "metadata": {
    "colab": {
     "base_uri": "https://localhost:8080/",
     "height": 1000
    },
    "colab_type": "code",
    "id": "0v0RFtO-WG9o",
    "outputId": "6791f795-cb10-4da3-932f-c4ac47574601",
    "scrolled": true
   },
   "outputs": [],
   "source": [
    "!python3 test.py --data data/ship_test.data --batch-size=1 --weights ./weights/best.pt --cfg yolov3_SEAFARI-replication.cfg --img-size ${IMG_SIZE}  # 0.565 mAP"
   ]
  },
  {
   "cell_type": "code",
   "execution_count": null,
   "metadata": {
    "scrolled": false
   },
   "outputs": [],
   "source": [
    "!python3 detect.py --source='data/1623_VIS.mp4' --cfg cfg/yolov3_SEAFARI-replication.cfg --iou-thres 0.5 --names 'data/ship.names' --weights ./weights/best.pt --img-size ${IMG_SIZE}"
   ]
  },
  {
   "cell_type": "code",
   "execution_count": null,
   "metadata": {},
   "outputs": [],
   "source": []
  }
 ],
 "metadata": {
  "accelerator": "GPU",
  "colab": {
   "collapsed_sections": [],
   "name": "ultralytics/YOLOv3",
   "provenance": [],
   "version": "0.3.2"
  },
  "kernelspec": {
   "display_name": "Python 3",
   "language": "python",
   "name": "python3"
  },
  "language_info": {
   "codemirror_mode": {
    "name": "ipython",
    "version": 3
   },
   "file_extension": ".py",
   "mimetype": "text/x-python",
   "name": "python",
   "nbconvert_exporter": "python",
   "pygments_lexer": "ipython3",
   "version": "3.7.4"
  }
 },
 "nbformat": 4,
 "nbformat_minor": 1
}
