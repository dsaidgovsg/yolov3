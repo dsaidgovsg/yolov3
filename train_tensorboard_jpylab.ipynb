{
 "cells": [
  {
   "cell_type": "code",
   "execution_count": 1,
   "metadata": {
    "scrolled": true
   },
   "outputs": [
    {
     "name": "stdout",
     "output_type": "stream",
     "text": [
      "env: MNTDIR=/home/experiment\n",
      "env: MLFLOW_URI=127.0.0.1/3306/mlflow\n",
      "env: PROJECT_NAME=SEAFARI\n",
      "env: RUN_NAME=replication\n",
      "env: EPOCHS=150\n",
      "env: IMG_SIZE=448\n",
      "env: ANCHORS=10,13,  16,30,  33,23,  30,61,  62,45,  59,119,  116,90,  156,198,  373,326\n",
      "env: ANCHORS_NUM=9\n",
      "env: CLASSES=80\n"
     ]
    }
   ],
   "source": [
    "#Set all information relating to the training run here\n",
    "\n",
    "%env MNTDIR = /home/experiment\n",
    "%env MLFLOW_URI = 127.0.0.1/3306/mlflow\n",
    "%env DATA_FILES = data/coco64.data\n",
    "%env PROJECT_NAME = SEAFARI\n",
    "%env RUN_NAME = replication\n",
    "%env EPOCHS=150\n",
    "%env IMG_SIZE=448\n",
    "%env ANCHORS=10,13,  16,30,  33,23,  30,61,  62,45,  59,119,  116,90,  156,198,  373,326\n",
    "%env ANCHORS_NUM=9\n",
    "%env CLASSES=80"
   ]
  },
  {
   "cell_type": "code",
   "execution_count": 2,
   "metadata": {
    "colab": {
     "base_uri": "https://localhost:8080/",
     "height": 34
    },
    "colab_type": "code",
    "id": "e5ylFIvlCEym",
    "outputId": "fbc88edd-7b26-4735-83bf-b404b76f9c90",
    "scrolled": true
   },
   "outputs": [
    {
     "name": "stdout",
     "output_type": "stream",
     "text": [
      "PyTorch 1.5.0a0+8f84ded _CudaDeviceProperties(name='Tesla T4', major=7, minor=5, total_memory=15079MB, multi_processor_count=40)\n"
     ]
    }
   ],
   "source": [
    "import time\n",
    "import glob\n",
    "import torch\n",
    "import os\n",
    "\n",
    "from IPython.display import Image, clear_output \n",
    "print('PyTorch %s %s' % (torch.__version__, torch.cuda.get_device_properties(0) if torch.cuda.is_available() else 'CPU'))"
   ]
  },
  {
   "cell_type": "markdown",
   "metadata": {},
   "source": [
    "Load Tensorboard Magic Extension before training"
   ]
  },
  {
   "cell_type": "markdown",
   "metadata": {
    "colab_type": "text",
    "id": "ijTFlKcp6JVy"
   },
   "source": [
    "Run `train.py` to train YOLOv3-SPP starting from a darknet53 backbone:"
   ]
  },
  {
   "cell_type": "code",
   "execution_count": null,
   "metadata": {
    "colab": {},
    "colab_type": "code",
    "id": "Mupsoa0lzSPo",
    "scrolled": true
   },
   "outputs": [],
   "source": [
    "!python3 train.py --data ${DATA_FILES} --weights weights/darknet53.conv.74 --img-size ${IMG_SIZE} --epochs ${EPOCHS} > ${MNTDIR}/${PROJECT_NAME}_${RUN_NAME}_logs.txt ;"
   ]
  },
  {
   "cell_type": "markdown",
   "metadata": {
    "colab_type": "text",
    "id": "0eq1SMWl6Sfn"
   },
   "source": [
    "Run `test.py` to evaluate the performance of a trained darknet or PyTorch model:"
   ]
  },
  {
   "cell_type": "code",
   "execution_count": null,
   "metadata": {
    "colab": {
     "base_uri": "https://localhost:8080/",
     "height": 1000
    },
    "colab_type": "code",
    "id": "0v0RFtO-WG9o",
    "outputId": "6791f795-cb10-4da3-932f-c4ac47574601"
   },
   "outputs": [],
   "source": [
    "!python3 test.py --data data/coco64.data --weights /home/experiment/artifacts/weights/last.pt --cfg cfg/yolov3_train.cfg --save-json --img-size ${IMG_SIZE}  # 0.565 mAP"
   ]
  },
  {
   "cell_type": "code",
   "execution_count": null,
   "metadata": {
    "scrolled": true
   },
   "outputs": [],
   "source": []
  }
 ],
 "metadata": {
  "accelerator": "GPU",
  "colab": {
   "collapsed_sections": [],
   "name": "ultralytics/YOLOv3",
   "provenance": [],
   "version": "0.3.2"
  },
  "kernelspec": {
   "display_name": "Python 3",
   "language": "python",
   "name": "python3"
  },
  "language_info": {
   "codemirror_mode": {
    "name": "ipython",
    "version": 3
   },
   "file_extension": ".py",
   "mimetype": "text/x-python",
   "name": "python",
   "nbconvert_exporter": "python",
   "pygments_lexer": "ipython3",
   "version": "3.6.9"
  }
 },
 "nbformat": 4,
 "nbformat_minor": 4
}
